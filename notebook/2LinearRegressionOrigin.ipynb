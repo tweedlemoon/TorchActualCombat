{
 "cells": [
  {
   "cell_type": "markdown",
   "id": "16d2d089",
   "metadata": {},
   "source": [
    "# 深度学习基础"
   ]
  },
  {
   "cell_type": "markdown",
   "id": "653f207b",
   "metadata": {},
   "source": [
    "## 3.1线性回归"
   ]
  },
  {
   "cell_type": "markdown",
   "id": "e1324f27",
   "metadata": {},
   "source": [
    "解析解：可以算出来的精确解\n",
    "数值解：通过最优化算法算出来的解"
   ]
  },
  {
   "cell_type": "markdown",
   "id": "e219738e",
   "metadata": {},
   "source": [
    "batch：为了保证电脑不炸而使用的数据切分，所以在电脑能承受的情况下把所有数据全部作为1个batch是最好的\n",
    "比如有2000个数据我拆成4个batch每组500数据，500就称为batch_size  \n",
    "  \n",
    "  \n",
    "iteration：迭代，1个batch丢进去进行1次梯度下降更新称为1次迭代\n",
    "那么为了全部训练，就会进行4次iteration，进行完后整个数据就进行了一次梯度下降算法，这就称为1个epoch  \n",
    "  \n",
    "  \n",
    "epoch：所有数据都进行了1次迭代称为1次epoch，即1个时期（纪元）  \n",
    "然后进行成百上千次epoch直到结果收敛，就得到了训练结果"
   ]
  },
  {
   "cell_type": "markdown",
   "id": "ceaf78b8",
   "metadata": {},
   "source": [
    "## 3.2线性回归从零实现"
   ]
  },
  {
   "cell_type": "code",
   "execution_count": 1,
   "id": "90920dcb",
   "metadata": {},
   "outputs": [],
   "source": [
    "import torch\n",
    "from IPython import display\n",
    "from matplotlib import pyplot as plt\n",
    "import numpy as np\n",
    "import random"
   ]
  },
  {
   "cell_type": "code",
   "execution_count": 2,
   "id": "216ef71f",
   "metadata": {},
   "outputs": [
    {
     "name": "stdout",
     "output_type": "stream",
     "text": [
      "tensor([-2.0886, -1.0477]) tensor(3.5831)\n"
     ]
    }
   ],
   "source": [
    "# 输入特征数为2，此处是房子模型，用房龄和面积确定房子的价格\n",
    "num_inputs = 2\n",
    "# 随机生成1000个例子\n",
    "num_examples = 1000\n",
    "\n",
    "# 真实的w和b\n",
    "# 即真正的表达式为y = 2 * x1 - 3.4 * x2 + 4.2\n",
    "true_w = [2, -3.4]\n",
    "true_b = 4.2\n",
    "\n",
    "# 随机生成数据\n",
    "# features是1000*2的Tensor，数据类型是float\n",
    "features = torch.randn(num_examples, num_inputs, dtype=torch.float32)\n",
    "# labels是带入了真实的表达式算出了真实的结果\n",
    "labels = true_w[0] * features[:, 0] + true_w[1] * features[:, 1] + true_b\n",
    "# 在每个labels上加上了均值为0，标准差为0.01的正态分布的值，相当于加入了一个噪声\n",
    "labels += torch.tensor(np.random.normal(0, 0.01, size=labels.size()), dtype=torch.float32)\n",
    "\n",
    "# 上述程序干了如下几件事：\n",
    "# 1. 定义了真实的表达式\n",
    "# 2. 随机生成了1000个x，并使用真实的表达式算出了标准的y\n",
    "# 3. 给标准的y加上了一些噪声，使得每个y有些许偏移。这样就得到了代表采集到的数据x和y，也就是训练集\n",
    "# 现在要做如下事情：\n",
    "# 根据加了噪声的已有数据进行回归运算来猜出w和b，并与真实的w和b进行比对\n",
    "\n",
    "# 结果看看\n",
    "print(features[0], labels[0])"
   ]
  },
  {
   "cell_type": "code",
   "execution_count": 3,
   "id": "80a91605",
   "metadata": {},
   "outputs": [
    {
     "data": {
      "text/plain": [
       "<matplotlib.collections.PathCollection at 0x2af4e4f4f88>"
      ]
     },
     "execution_count": 3,
     "metadata": {},
     "output_type": "execute_result"
    },
    {
     "data": {
      "image/png": "[encoded data removed]",
      "text/plain": [
       "<Figure size 252x180 with 1 Axes>"
      ]
     },
     "metadata": {
      "needs_background": "light"
     },
     "output_type": "display_data"
    }
   ],
   "source": [
    "def use_svg_display():\n",
    "    pass\n",
    "    # 用矢量图显示，目前此句暂时无法运行\n",
    "    # display.set_matplotlib_formats('svg')\n",
    "\n",
    "\n",
    "def set_figsize(figsize=(3.5, 2.5)):\n",
    "    use_svg_display()\n",
    "    # 设置图的尺寸\n",
    "    plt.rcParams['figure.figsize'] = figsize\n",
    "\n",
    "\n",
    "# # 在../d2lzh_pytorch里面添加上面两个函数后就可以这样导入\n",
    "# import sys\n",
    "# sys.path.append(\"..\")\n",
    "# from d2lzh_pytorch import *\n",
    "\n",
    "set_figsize()\n",
    "plt.scatter(features[:, 1].numpy(), labels.numpy(), 1)"
   ]
  },
  {
   "cell_type": "code",
   "execution_count": 4,
   "id": "cff75874",
   "metadata": {},
   "outputs": [
    {
     "name": "stdout",
     "output_type": "stream",
     "text": [
      "tensor([[ 0.9831,  0.7696],\n",
      "        [-0.7998,  1.1627],\n",
      "        [-0.4431, -0.5531],\n",
      "        [-1.4065, -0.7737],\n",
      "        [-0.9541,  1.7075],\n",
      "        [-0.2739,  0.3848],\n",
      "        [-0.4480,  1.2105],\n",
      "        [-0.1386, -0.0757],\n",
      "        [ 0.5238, -1.3986],\n",
      "        [ 0.2828,  0.1796]]) tensor([ 3.5514, -1.3554,  5.1872,  4.0148, -3.5158,  2.3531, -0.8091,  4.1717,\n",
      "         9.9871,  4.1458])\n"
     ]
    }
   ],
   "source": [
    "def data_iter(batch_size, features, labels):\n",
    "    num_examples = len(features)\n",
    "    indices = list(range(num_examples))\n",
    "    # random.shuffle的意思是将indices输入并shuffle（洗牌）然后再赋值回给indices，也就是说现在indices是乱的\n",
    "    random.shuffle(indices)  # 样本的读取顺序是随机的\n",
    "    for i in range(0, num_examples, batch_size):\n",
    "        # i从0开始，每次+=batch_size\n",
    "        # 把那一batch_size组tensor化，命名为j\n",
    "        # indices[i:最后一位]，冒号代表索引的基本操作\n",
    "        # 因为最后一次可能不足一个batch，所以最后一组的尾部由i + batch_size, num_examples中的最小决定\n",
    "        j = torch.LongTensor(indices[i: min(i + batch_size, num_examples)])\n",
    "        # index_select见上节pytorch索引，三个参数为开始结束和步长\n",
    "        yield features.index_select(0, j), labels.index_select(0, j)\n",
    "\n",
    "\n",
    "batch_size = 10\n",
    "\n",
    "# 打印出10组数据看看\n",
    "for X, y in data_iter(batch_size, features, labels):\n",
    "    print(X, y)\n",
    "    break"
   ]
  },
  {
   "cell_type": "code",
   "execution_count": 5,
   "id": "92a6c282",
   "metadata": {},
   "outputs": [
    {
     "name": "stdout",
     "output_type": "stream",
     "text": [
      "epoch 1, loss 0.034650\n",
      "epoch 2, loss 0.000123\n",
      "epoch 3, loss 0.000051\n"
     ]
    }
   ],
   "source": [
    "# 将权重初始化成均值为0、标准差为0.01的正态随机数，偏差则初始化成0。\n",
    "w = torch.tensor(np.random.normal(0, 0.01, (num_inputs, 1)), dtype=torch.float32)\n",
    "b = torch.zeros(1, dtype=torch.float32)\n",
    "\n",
    "# 添加跟踪\n",
    "w.requires_grad_(True)\n",
    "b.requires_grad_(True)\n",
    "\n",
    "\n",
    "# 结果表达式\n",
    "def linreg(X, w, b):  # 本函数已保存在d2lzh_pytorch包中方便以后使用\n",
    "    return torch.mm(X, w) + b\n",
    "\n",
    "\n",
    "# 损失函数\n",
    "def squared_loss(y_hat, y):  # 本函数已保存在d2lzh_pytorch包中方便以后使用\n",
    "    # 注意这里返回的是向量, 另外, pytorch里的MSELoss并没有除以 2\n",
    "    return (y_hat - y.view(y_hat.size())) ** 2 / 2\n",
    "\n",
    "\n",
    "# 优化算法\n",
    "def sgd(params, lr, batch_size):  # 本函数已保存在d2lzh_pytorch包中方便以后使用\n",
    "    for param in params:\n",
    "        param.data -= lr * param.grad / batch_size  # 注意这里更改param时用的param.data\n",
    "\n",
    "\n",
    "# 开始训练模型\n",
    "lr = 0.03\n",
    "num_epochs = 3\n",
    "net = linreg\n",
    "loss = squared_loss\n",
    "\n",
    "for epoch in range(num_epochs):  # 训练模型一共需要num_epochs个迭代周期\n",
    "    # 在每一个迭代周期中，会使用训练数据集中所有样本一次（假设样本数能够被批量大小整除）。X\n",
    "    # 和y分别是小批量样本的特征和标签\n",
    "    for X, y in data_iter(batch_size, features, labels):\n",
    "        l = loss(net(X, w, b), y).sum()  # l是有关小批量X和y的损失\n",
    "        l.backward()  # 小批量的损失对模型参数求梯度\n",
    "        sgd([w, b], lr, batch_size)  # 使用小批量随机梯度下降迭代模型参数\n",
    "\n",
    "        # 不要忘了梯度清零\n",
    "        w.grad.data.zero_()\n",
    "        b.grad.data.zero_()\n",
    "    train_l = loss(net(features, w, b), labels)\n",
    "    print('epoch %d, loss %f' % (epoch + 1, train_l.mean().item()))"
   ]
  },
  {
   "cell_type": "code",
   "execution_count": 6,
   "id": "0d5ccc96",
   "metadata": {},
   "outputs": [
    {
     "name": "stdout",
     "output_type": "stream",
     "text": [
      "[2, -3.4] \n",
      " tensor([[ 2.0003],\n",
      "        [-3.4002]], requires_grad=True)\n",
      "4.2 \n",
      " tensor([4.1997], requires_grad=True)\n"
     ]
    }
   ],
   "source": [
    "print(true_w, '\\n', w)\n",
    "print(true_b, '\\n', b)"
   ]
  }
 ],
 "metadata": {
  "kernelspec": {
   "display_name": "Python 3 (ipykernel)",
   "language": "python",
   "name": "python3"
  },
  "language_info": {
   "codemirror_mode": {
    "name": "ipython",
    "version": 3
   },
   "file_extension": ".py",
   "mimetype": "text/x-python",
   "name": "python",
   "nbconvert_exporter": "python",
   "pygments_lexer": "ipython3",
   "version": "3.7.11"
  }
 },
 "nbformat": 4,
 "nbformat_minor": 5
}
