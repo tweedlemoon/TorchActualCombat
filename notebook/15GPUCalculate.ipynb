{
 "cells": [
  {
   "cell_type": "markdown",
   "id": "ef194c23",
   "metadata": {},
   "source": [
    "# GPU计算"
   ]
  },
  {
   "cell_type": "markdown",
   "id": "c89870a3",
   "metadata": {},
   "source": [
    "**其实通篇就记住一个就行，那就是.cuda(0)**"
   ]
  },
  {
   "cell_type": "code",
   "execution_count": 1,
   "id": "d0c04033",
   "metadata": {},
   "outputs": [],
   "source": [
    "import torch\n",
    "from torch import nn"
   ]
  },
  {
   "cell_type": "code",
   "execution_count": 2,
   "id": "de1112b8",
   "metadata": {},
   "outputs": [
    {
     "name": "stdout",
     "output_type": "stream",
     "text": [
      "True\n",
      "1\n",
      "0\n",
      "NVIDIA GeForce GTX 960M\n"
     ]
    }
   ],
   "source": [
    "print(torch.cuda.is_available())  # 输出 True\n",
    "print(torch.cuda.device_count())  # 输出 1\n",
    "# 查看当前GPU索引号\n",
    "print(torch.cuda.current_device())  # 输出 0\n",
    "print(torch.cuda.get_device_name(0))"
   ]
  },
  {
   "cell_type": "code",
   "execution_count": 3,
   "id": "8e7f6e89",
   "metadata": {},
   "outputs": [
    {
     "name": "stdout",
     "output_type": "stream",
     "text": [
      "tensor([1, 2, 3])\n",
      "tensor([1, 2, 3], device='cuda:0')\n",
      "cuda:0\n",
      "tensor([1, 2, 3], device='cuda:0')\n"
     ]
    }
   ],
   "source": [
    "# 注意cuda(0)与cuda()等价\n",
    "x = torch.tensor([1, 2, 3])\n",
    "print(x)\n",
    "x = x.cuda(0)\n",
    "print(x)\n",
    "print(x.device)\n",
    "\n",
    "device = torch.device('cuda' if torch.cuda.is_available() else 'cpu')\n",
    "\n",
    "x = torch.tensor([1, 2, 3], device=device)\n",
    "# or\n",
    "# x = torch.tensor([1, 2, 3]).to(device)\n",
    "print(x)"
   ]
  },
  {
   "cell_type": "code",
   "execution_count": 4,
   "id": "ea3210de",
   "metadata": {},
   "outputs": [
    {
     "name": "stdout",
     "output_type": "stream",
     "text": [
      "tensor([1, 4, 9], device='cuda:0')\n"
     ]
    }
   ],
   "source": [
    "# 如果对在GPU上的数据进行运算，那么结果还是存放在GPU上。\n",
    "y = x ** 2\n",
    "print(y)\n",
    "\n",
    "# z = y + x.cpu()  # 会报错"
   ]
  },
  {
   "cell_type": "code",
   "execution_count": 5,
   "id": "7e2cf214",
   "metadata": {},
   "outputs": [
    {
     "name": "stdout",
     "output_type": "stream",
     "text": [
      "cpu\n",
      "cuda:0\n"
     ]
    },
    {
     "data": {
      "text/plain": [
       "tensor([[-0.0637],\n",
       "        [ 0.1663]], device='cuda:0', grad_fn=<AddmmBackward>)"
      ]
     },
     "execution_count": 5,
     "metadata": {},
     "output_type": "execute_result"
    }
   ],
   "source": [
    "# 对于模型\n",
    "net = nn.Linear(3, 1)\n",
    "print(list(net.parameters())[0].device)\n",
    "\n",
    "# 转化到GPU上\n",
    "net.cuda()\n",
    "print(list(net.parameters())[0].device)\n",
    "\n",
    "# 输入的值也要在GPU上，不然会报错\n",
    "x = torch.rand(2, 3).cuda()\n",
    "net(x)"
   ]
  }
 ],
 "metadata": {
  "kernelspec": {
   "display_name": "Python 3 (ipykernel)",
   "language": "python",
   "name": "python3"
  },
  "language_info": {
   "codemirror_mode": {
    "name": "ipython",
    "version": 3
   },
   "file_extension": ".py",
   "mimetype": "text/x-python",
   "name": "python",
   "nbconvert_exporter": "python",
   "pygments_lexer": "ipython3",
   "version": "3.7.11"
  }
 },
 "nbformat": 4,
 "nbformat_minor": 5
}
