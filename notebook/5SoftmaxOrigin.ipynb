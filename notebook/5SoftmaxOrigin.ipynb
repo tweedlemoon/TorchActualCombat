{
 "cells": [
  {
   "cell_type": "markdown",
   "id": "97352710",
   "metadata": {},
   "source": [
    "## 3.6 从零实现softmax"
   ]
  },
  {
   "cell_type": "markdown",
   "id": "28d0e9bf",
   "metadata": {},
   "source": [
    "### 读数据"
   ]
  },
  {
   "cell_type": "code",
   "execution_count": null,
   "id": "6387b620",
   "metadata": {},
   "outputs": [],
   "source": [
    "batch_size = 256\n",
    "train_iter, test_iter = d2l.load_data_fashion_mnist(batch_size)"
   ]
  }
 ],
 "metadata": {
  "kernelspec": {
   "display_name": "Python 3 (ipykernel)",
   "language": "python",
   "name": "python3"
  },
  "language_info": {
   "codemirror_mode": {
    "name": "ipython",
    "version": 3
   },
   "file_extension": ".py",
   "mimetype": "text/x-python",
   "name": "python",
   "nbconvert_exporter": "python",
   "pygments_lexer": "ipython3",
   "version": "3.7.11"
  }
 },
 "nbformat": 4,
 "nbformat_minor": 5
}
