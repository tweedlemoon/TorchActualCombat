{
 "cells": [
  {
   "cell_type": "markdown",
   "id": "042e386c",
   "metadata": {},
   "source": [
    "## 3.3 线性回归的简洁实现"
   ]
  },
  {
   "cell_type": "markdown",
   "id": "a04096ba",
   "metadata": {},
   "source": [
    "torch.utils.data模块提供了有关数据处理的工具  \n",
    "torch.nn模块定义了大量神经网络的层  \n",
    "torch.nn.init模块定义了各种初始化方法  \n",
    "torch.optim模块提供了很多常用的优化算法"
   ]
  },
  {
   "cell_type": "code",
   "execution_count": 1,
   "id": "7c53745c",
   "metadata": {},
   "outputs": [],
   "source": [
    "import matplotlib_inline\n",
    "import torch\n",
    "import torch.utils.data as Data\n",
    "import torch.nn as nn\n",
    "from torch.nn import init\n",
    "import torch.optim as optim\n",
    "from IPython import display\n",
    "from IPython.display import set_matplotlib_formats\n",
    "from matplotlib import pyplot as plt\n",
    "import numpy as np\n",
    "import random"
   ]
  },
  {
   "cell_type": "code",
   "execution_count": 2,
   "id": "3890e604",
   "metadata": {},
   "outputs": [],
   "source": [
    "# 同上一章生成数据\n",
    "num_inputs = 2\n",
    "num_examples = 1000\n",
    "true_w = [2, -3.4]\n",
    "true_b = 4.2\n",
    "features = torch.tensor(np.random.normal(0, 1, (num_examples, num_inputs)), dtype=torch.float)\n",
    "labels = true_w[0] * features[:, 0] + true_w[1] * features[:, 1] + true_b\n",
    "labels += torch.tensor(np.random.normal(0, 0.01, size=labels.size()), dtype=torch.float)"
   ]
  },
  {
   "cell_type": "code",
   "execution_count": 3,
   "id": "7c4db36c",
   "metadata": {},
   "outputs": [
    {
     "name": "stdout",
     "output_type": "stream",
     "text": [
      "tensor([[ 0.5796,  0.5871],\n",
      "        [-0.5142,  0.3326],\n",
      "        [-0.2489, -0.5346],\n",
      "        [ 0.1567, -1.3743],\n",
      "        [ 1.0427, -2.2903],\n",
      "        [ 0.0211,  0.7242],\n",
      "        [ 2.1995,  0.5481],\n",
      "        [ 0.0609,  1.0279],\n",
      "        [-0.0235,  0.9853],\n",
      "        [ 1.5511,  2.0897]]) tensor([ 3.3771,  2.0198,  5.5311,  9.1775, 14.0875,  1.7849,  6.7429,  0.8279,\n",
      "         0.8068,  0.2111])\n"
     ]
    }
   ],
   "source": [
    "# 代替上一章的data_iter，即洗牌然后拿数据\n",
    "batch_size = 10\n",
    "# 将训练数据的特征和标签组合\n",
    "dataset = Data.TensorDataset(features, labels)\n",
    "# 随机读取小批量\n",
    "data_iter = Data.DataLoader(dataset, batch_size, shuffle=True)\n",
    "\n",
    "for X, y in data_iter:\n",
    "    print(X, y)\n",
    "    break"
   ]
  },
  {
   "cell_type": "code",
   "execution_count": 4,
   "id": "6c64f212",
   "metadata": {},
   "outputs": [
    {
     "name": "stdout",
     "output_type": "stream",
     "text": [
      "Sequential(\n",
      "  (0): Linear(in_features=2, out_features=1, bias=True)\n",
      ")\n",
      "Linear(in_features=2, out_features=1, bias=True)\n"
     ]
    }
   ],
   "source": [
    "class LinearNet(nn.Module):\n",
    "    def __init__(self, n_feature):\n",
    "        super(LinearNet, self).__init__()\n",
    "        self.linear = nn.Linear(n_feature, 1)\n",
    "\n",
    "    # forward 定义前向传播\n",
    "    def forward(self, x):\n",
    "        y = self.linear(x)\n",
    "        return y\n",
    "\n",
    "# net = LinearNet(num_inputs)\n",
    "# 使用print可以打印出网络的结构\n",
    "# print(net)\n",
    "\n",
    "\n",
    "# 但推荐以下写法，在网络带有流程的时候会好用一些\n",
    "net = nn.Sequential(\n",
    "    nn.Linear(num_inputs, 1)\n",
    "    # 此处还可以传入其他层\n",
    ")\n",
    "print(net)\n",
    "print(net[0])"
   ]
  },
  {
   "cell_type": "code",
   "execution_count": 5,
   "id": "daf13c52",
   "metadata": {},
   "outputs": [
    {
     "name": "stdout",
     "output_type": "stream",
     "text": [
      "Parameter containing:\n",
      "tensor([[0.4267, 0.2883]], requires_grad=True)\n",
      "Parameter containing:\n",
      "tensor([-0.6014], requires_grad=True)\n"
     ]
    }
   ],
   "source": [
    "# 可以通过net.parameters()来查看模型所有的可学习参数，此函数将返回一个生成器。\n",
    "for param in net.parameters():\n",
    "    print(param)"
   ]
  },
  {
   "cell_type": "code",
   "execution_count": 6,
   "id": "cda081f8",
   "metadata": {},
   "outputs": [
    {
     "name": "stdout",
     "output_type": "stream",
     "text": [
      "SGD (\n",
      "Parameter Group 0\n",
      "    dampening: 0\n",
      "    lr: 0.03\n",
      "    momentum: 0\n",
      "    nesterov: False\n",
      "    weight_decay: 0\n",
      ")\n"
     ]
    }
   ],
   "source": [
    "# 初始化\n",
    "init.normal_(net[0].weight, mean=0, std=0.01)\n",
    "init.constant_(net[0].bias, val=0)  # 也可以直接修改bias的data: net[0].bias.data.fill_(0)\n",
    "\n",
    "# 损失函数\n",
    "loss = nn.MSELoss()\n",
    "\n",
    "# 最优化方法\n",
    "optimizer = optim.SGD(net.parameters(), lr=0.03)\n",
    "print(optimizer)"
   ]
  },
  {
   "cell_type": "code",
   "execution_count": 7,
   "id": "590ec174",
   "metadata": {},
   "outputs": [
    {
     "name": "stdout",
     "output_type": "stream",
     "text": [
      "epoch 1, loss: 0.000063\n",
      "epoch 2, loss: 0.000046\n",
      "epoch 3, loss: 0.000090\n",
      "[2, -3.4] Parameter containing:\n",
      "tensor([[ 2.0002, -3.4010]], requires_grad=True)\n",
      "4.2 Parameter containing:\n",
      "tensor([4.1998], requires_grad=True)\n"
     ]
    }
   ],
   "source": [
    "# 训练模型\n",
    "num_epochs = 3\n",
    "for epoch in range(1, num_epochs + 1):\n",
    "    for X, y in data_iter:\n",
    "        output = net(X)\n",
    "        l = loss(output, y.view(-1, 1))\n",
    "        optimizer.zero_grad()  # 梯度清零，等价于net.zero_grad()\n",
    "        l.backward()\n",
    "        optimizer.step()\n",
    "    print('epoch %d, loss: %f' % (epoch, l.item()))\n",
    "\n",
    "dense = net[0]\n",
    "print(true_w, dense.weight)\n",
    "print(true_b, dense.bias)"
   ]
  }
 ],
 "metadata": {
  "kernelspec": {
   "display_name": "Python 3 (ipykernel)",
   "language": "python",
   "name": "python3"
  },
  "language_info": {
   "codemirror_mode": {
    "name": "ipython",
    "version": 3
   },
   "file_extension": ".py",
   "mimetype": "text/x-python",
   "name": "python",
   "nbconvert_exporter": "python",
   "pygments_lexer": "ipython3",
   "version": "3.7.11"
  }
 },
 "nbformat": 4,
 "nbformat_minor": 5
}
