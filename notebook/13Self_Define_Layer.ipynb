{
 "cells": [
  {
   "cell_type": "markdown",
   "id": "f1dea72c",
   "metadata": {},
   "source": [
    "# 4.4 自定义层"
   ]
  },
  {
   "cell_type": "code",
   "execution_count": 1,
   "id": "52e47e8a",
   "metadata": {},
   "outputs": [],
   "source": [
    "import torch\n",
    "from torch import nn"
   ]
  },
  {
   "cell_type": "markdown",
   "id": "e1e8f9c1",
   "metadata": {},
   "source": [
    "定义一个平均化计算的层，因为forward函数中只需要一个x，那么只需要一个x作为输入"
   ]
  },
  {
   "cell_type": "code",
   "execution_count": 2,
   "id": "e2bb89f3",
   "metadata": {},
   "outputs": [
    {
     "data": {
      "text/plain": [
       "tensor([-2., -1.,  0.,  1.,  2.])"
      ]
     },
     "execution_count": 2,
     "metadata": {},
     "output_type": "execute_result"
    }
   ],
   "source": [
    "class CenteredLayer(nn.Module):\n",
    "    def __init__(self, **kwargs):\n",
    "        super().__init__()\n",
    "\n",
    "    def forward(self, x):\n",
    "        return x - x.mean()\n",
    "\n",
    "\n",
    "# 实例化这个层，然后做前向计算\n",
    "layer = CenteredLayer()\n",
    "layer(torch.tensor([1, 2, 3, 4, 5], dtype=torch.float))"
   ]
  },
  {
   "cell_type": "markdown",
   "id": "2ac2b6af",
   "metadata": {},
   "source": [
    "调用该网络看看"
   ]
  },
  {
   "cell_type": "code",
   "execution_count": 3,
   "id": "dda6d2ca",
   "metadata": {},
   "outputs": [
    {
     "name": "stdout",
     "output_type": "stream",
     "text": [
      "Sequential(\n",
      "  (0): Linear(in_features=8, out_features=128, bias=True)\n",
      "  (1): CenteredLayer()\n",
      ")\n"
     ]
    },
    {
     "data": {
      "text/plain": [
       "-2.0954757928848267e-09"
      ]
     },
     "execution_count": 3,
     "metadata": {},
     "output_type": "execute_result"
    }
   ],
   "source": [
    "net = nn.Sequential(nn.Linear(8, 128), CenteredLayer())\n",
    "print(net)\n",
    "y = net(torch.rand(4, 8))\n",
    "y.mean().item()"
   ]
  },
  {
   "cell_type": "markdown",
   "id": "807f65dc",
   "metadata": {},
   "source": [
    "下面是ParameterList和ParameterDict的用法"
   ]
  },
  {
   "cell_type": "code",
   "execution_count": 4,
   "id": "649ce241",
   "metadata": {},
   "outputs": [
    {
     "name": "stdout",
     "output_type": "stream",
     "text": [
      "MyListDense(\n",
      "  (params): ParameterList(\n",
      "      (0): Parameter containing: [torch.FloatTensor of size 4x4]\n",
      "      (1): Parameter containing: [torch.FloatTensor of size 4x4]\n",
      "      (2): Parameter containing: [torch.FloatTensor of size 4x4]\n",
      "      (3): Parameter containing: [torch.FloatTensor of size 4x1]\n",
      "  )\n",
      ")\n"
     ]
    }
   ],
   "source": [
    "# 除了像4.2.1节那样直接定义成Parameter类外，还可以使用ParameterList和ParameterDict分别定义参数的列表和字典。\n",
    "class MyListDense(nn.Module):\n",
    "    def __init__(self):\n",
    "        super().__init__()\n",
    "        # [1 for i in range(0, 3, 1)]结果就返回list[1, 1, 1]\n",
    "        self.params = nn.ParameterList([nn.Parameter(torch.randn(4, 4)) for i in range(3)])\n",
    "        self.params.append(nn.Parameter(torch.randn(4, 1)))\n",
    "\n",
    "    def forward(self, x):\n",
    "        for i in range(len(self.params)):\n",
    "            # 复习：torch.mm是矩阵线代乘（正常乘）\n",
    "            x = torch.mm(x, self.params[i])\n",
    "        return x\n",
    "\n",
    "\n",
    "net = MyListDense()\n",
    "print(net)"
   ]
  },
  {
   "cell_type": "code",
   "execution_count": 5,
   "id": "e17f8f23",
   "metadata": {},
   "outputs": [
    {
     "name": "stdout",
     "output_type": "stream",
     "text": [
      "MyDictDense(\n",
      "  (params): ParameterDict(\n",
      "      (linear1): Parameter containing: [torch.FloatTensor of size 4x4]\n",
      "      (linear2): Parameter containing: [torch.FloatTensor of size 4x1]\n",
      "      (linear3): Parameter containing: [torch.FloatTensor of size 4x2]\n",
      "      (linear4): Parameter containing: [torch.FloatTensor of size 4x3]\n",
      "  )\n",
      ")\n",
      "tensor([[ 2.0170, -2.3575,  2.9080, -0.4367]], grad_fn=<MmBackward>)\n",
      "tensor([[-3.5715]], grad_fn=<MmBackward>)\n",
      "tensor([[0.5690, 1.6447]], grad_fn=<MmBackward>)\n",
      "tensor([[0.2689, 0.0280, 0.7486]], grad_fn=<MmBackward>)\n"
     ]
    }
   ],
   "source": [
    "class MyDictDense(nn.Module):\n",
    "    def __init__(self):\n",
    "        super(MyDictDense, self).__init__()\n",
    "        self.params = nn.ParameterDict({\n",
    "            'linear1': nn.Parameter(torch.randn(4, 4)),\n",
    "            'linear2': nn.Parameter(torch.randn(4, 1))\n",
    "        })\n",
    "        # python的dict操作，使用update将两个字典合在一起\n",
    "        self.params.update({'linear3': nn.Parameter(torch.randn(4, 2))})  # 新增\n",
    "        # 同dict操作，直接指定新键值再直接赋值即可往里添加\n",
    "        self.params['linear4'] = nn.Parameter(torch.randn(4, 3))\n",
    "\n",
    "    # 自行定义的前向计算，默认choice为linear1，返回x和linear1的乘积\n",
    "    def forward(self, x, choice='linear1'):\n",
    "        return torch.mm(x, self.params[choice])\n",
    "\n",
    "\n",
    "net = MyDictDense()\n",
    "print(net)\n",
    "\n",
    "x = torch.ones(1, 4)\n",
    "# 这里net后面是传入forward函数的变量，意思类似于第四行\n",
    "# 默认是linear1\n",
    "print(net(x, 'linear1'))  # 等价于print(net(x))\n",
    "print(net(x, 'linear2'))\n",
    "print(net(x, 'linear3'))\n",
    "print(net(x=x, choice='linear4'))"
   ]
  },
  {
   "cell_type": "code",
   "execution_count": 6,
   "id": "e2f10982",
   "metadata": {},
   "outputs": [
    {
     "name": "stdout",
     "output_type": "stream",
     "text": [
      "Sequential(\n",
      "  (0): MyDictDense(\n",
      "    (params): ParameterDict(\n",
      "        (linear1): Parameter containing: [torch.FloatTensor of size 4x4]\n",
      "        (linear2): Parameter containing: [torch.FloatTensor of size 4x1]\n",
      "        (linear3): Parameter containing: [torch.FloatTensor of size 4x2]\n",
      "        (linear4): Parameter containing: [torch.FloatTensor of size 4x3]\n",
      "    )\n",
      "  )\n",
      "  (1): MyListDense(\n",
      "    (params): ParameterList(\n",
      "        (0): Parameter containing: [torch.FloatTensor of size 4x4]\n",
      "        (1): Parameter containing: [torch.FloatTensor of size 4x4]\n",
      "        (2): Parameter containing: [torch.FloatTensor of size 4x4]\n",
      "        (3): Parameter containing: [torch.FloatTensor of size 4x1]\n",
      "    )\n",
      "  )\n",
      ")\n",
      "tensor([[-22.9917]], grad_fn=<MmBackward>)\n"
     ]
    }
   ],
   "source": [
    "net = nn.Sequential(\n",
    "    MyDictDense(),\n",
    "    MyListDense(),\n",
    ")\n",
    "print(net)\n",
    "print(net(x))"
   ]
  }
 ],
 "metadata": {
  "kernelspec": {
   "display_name": "Python 3 (ipykernel)",
   "language": "python",
   "name": "python3"
  },
  "language_info": {
   "codemirror_mode": {
    "name": "ipython",
    "version": 3
   },
   "file_extension": ".py",
   "mimetype": "text/x-python",
   "name": "python",
   "nbconvert_exporter": "python",
   "pygments_lexer": "ipython3",
   "version": "3.7.11"
  }
 },
 "nbformat": 4,
 "nbformat_minor": 5
}
