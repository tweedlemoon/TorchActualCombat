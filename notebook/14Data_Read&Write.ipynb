{
 "cells": [
  {
   "cell_type": "markdown",
   "id": "66598ced",
   "metadata": {},
   "source": [
    "# 4.5 读取和存储"
   ]
  },
  {
   "cell_type": "code",
   "execution_count": 1,
   "id": "e0bcd3f4",
   "metadata": {},
   "outputs": [],
   "source": [
    "import torch\n",
    "from torch import nn\n",
    "import os\n",
    "import sys"
   ]
  },
  {
   "cell_type": "code",
   "execution_count": 2,
   "id": "74f439d2",
   "metadata": {},
   "outputs": [
    {
     "data": {
      "text/plain": [
       "{'x': tensor([1., 1., 1.]), 'y': tensor([0., 0., 0., 0.])}"
      ]
     },
     "execution_count": 2,
     "metadata": {},
     "output_type": "execute_result"
    }
   ],
   "source": [
    "# 演示Tensor的读写\n",
    "\n",
    "if sys.platform.startswith('win'):\n",
    "    # 如果是windows\n",
    "    directory = os.path.join(os.getcwd(), 'Datasets', '14_TempSaveData')\n",
    "else:\n",
    "    # linux\n",
    "    directory = os.path.join(os.getcwd(), '..', 'Datasets', '14_TempSaveData')\n",
    "\n",
    "if not os.path.exists(directory):\n",
    "    os.makedirs(directory)\n",
    "\n",
    "x = torch.ones(3)\n",
    "torch.save(x, os.path.join(directory, 'x.pt'))\n",
    "\n",
    "x2 = torch.load(os.path.join(directory, 'x.pt'))\n",
    "x2\n",
    "\n",
    "y = torch.zeros(4)\n",
    "torch.save([x, y], os.path.join(directory, 'xy.pt'))\n",
    "xy_list = torch.load(os.path.join(directory, 'xy.pt'))\n",
    "xy_list\n",
    "\n",
    "torch.save({'x': x, 'y': y}, os.path.join(directory, 'xy_dict.pt'))\n",
    "xy = torch.load(os.path.join(directory, 'xy_dict.pt'))\n",
    "xy"
   ]
  },
  {
   "cell_type": "markdown",
   "id": "ffe396af",
   "metadata": {},
   "source": [
    "state_dict()的用法，它是用来记录网络中的关键字的"
   ]
  },
  {
   "cell_type": "code",
   "execution_count": 3,
   "id": "6554db28",
   "metadata": {},
   "outputs": [
    {
     "data": {
      "text/plain": [
       "OrderedDict([('hidden.weight',\n",
       "              tensor([[ 0.3278, -0.1675,  0.0768],\n",
       "                      [ 0.1002, -0.5686, -0.4736]])),\n",
       "             ('hidden.bias', tensor([-0.0877,  0.3716])),\n",
       "             ('output.weight', tensor([[0.3007, 0.3152]])),\n",
       "             ('output.bias', tensor([0.3875]))])"
      ]
     },
     "execution_count": 3,
     "metadata": {},
     "output_type": "execute_result"
    }
   ],
   "source": [
    "# 注意，只有具有可学习参数的层(卷积层、线性层等)才有state_dict中的条目。\n",
    "class MLP(nn.Module):\n",
    "    def __init__(self):\n",
    "        super().__init__()\n",
    "        self.hidden = nn.Linear(3, 2)\n",
    "        self.act = nn.ReLU()\n",
    "        self.output = nn.Linear(2, 1)\n",
    "\n",
    "    def forward(self, x):\n",
    "        a = self.act(self.hidden(x))\n",
    "        return self.output(a)\n",
    "\n",
    "\n",
    "net = MLP()\n",
    "net.state_dict()"
   ]
  },
  {
   "cell_type": "markdown",
   "id": "eb4363b2",
   "metadata": {},
   "source": [
    "优化器(optim)也有一个state_dict，其中包含关于优化器状态以及所使用的超参数的信息。"
   ]
  },
  {
   "cell_type": "code",
   "execution_count": 4,
   "id": "49963738",
   "metadata": {},
   "outputs": [
    {
     "data": {
      "text/plain": [
       "{'state': {},\n",
       " 'param_groups': [{'lr': 0.001,\n",
       "   'momentum': 0.9,\n",
       "   'dampening': 0,\n",
       "   'weight_decay': 0,\n",
       "   'nesterov': False,\n",
       "   'params': [0, 1, 2, 3]}]}"
      ]
     },
     "execution_count": 4,
     "metadata": {},
     "output_type": "execute_result"
    }
   ],
   "source": [
    "optimizer = torch.optim.SGD(net.parameters(), lr=0.001, momentum=0.9)\n",
    "optimizer.state_dict()"
   ]
  },
  {
   "cell_type": "markdown",
   "id": "321f5cac",
   "metadata": {},
   "source": [
    "### 如何保存网络"
   ]
  },
  {
   "cell_type": "markdown",
   "id": "b0b4a5f0",
   "metadata": {},
   "source": [
    "```\n",
    "保存方式1（仅参数）\n",
    "torch.save(model.state_dict(), PATH)  # 推荐的文件后缀名是pt或pth\n",
    "加载方式1\n",
    "model = TheModelClass(*args, **kwargs)\n",
    "model.load_state_dict(torch.load(PATH))\n",
    "\n",
    "保存方式2（整个模型）\n",
    "torch.save(model, PATH)\n",
    "加载方式2\n",
    "model = torch.load(PATH)\n",
    "```"
   ]
  },
  {
   "cell_type": "code",
   "execution_count": 5,
   "id": "3ab06d10",
   "metadata": {},
   "outputs": [
    {
     "name": "stdout",
     "output_type": "stream",
     "text": [
      "tensor([[True],\n",
      "        [True]])\n"
     ]
    }
   ],
   "source": [
    "# 第一种实践\n",
    "X = torch.randn(2, 3)\n",
    "Y = net(X)\n",
    "\n",
    "PATH = os.path.join(directory, 'net.pt')\n",
    "torch.save(net.state_dict(), PATH)\n",
    "\n",
    "net2 = MLP()\n",
    "net2.load_state_dict(torch.load(PATH))\n",
    "Y2 = net2(X)\n",
    "print(Y2 == Y)"
   ]
  }
 ],
 "metadata": {
  "kernelspec": {
   "display_name": "Python 3 (ipykernel)",
   "language": "python",
   "name": "python3"
  },
  "language_info": {
   "codemirror_mode": {
    "name": "ipython",
    "version": 3
   },
   "file_extension": ".py",
   "mimetype": "text/x-python",
   "name": "python",
   "nbconvert_exporter": "python",
   "pygments_lexer": "ipython3",
   "version": "3.7.11"
  }
 },
 "nbformat": 4,
 "nbformat_minor": 5
}
