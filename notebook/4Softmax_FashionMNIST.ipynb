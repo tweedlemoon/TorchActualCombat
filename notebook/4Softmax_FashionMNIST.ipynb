{
 "cells": [
  {
   "cell_type": "markdown",
   "id": "98027a01",
   "metadata": {},
   "source": [
    "## 3.4 Softmax回归"
   ]
  },
  {
   "cell_type": "markdown",
   "id": "b9907c28",
   "metadata": {},
   "source": [
    "#### softmax回归与线性回归之间的区别  \n",
    "以房价为例，输入房龄和平米可以输出房价，也就是说输出可以是一个连续值，而分类问题很明显输出是离散值，这里举例一个三分类问题，输入为四个特征，即输入层为4项，输出层为3项，这样的分类问题显然不能随便线性划分，所以这里引入了softmax回归，输出结果最后受这些影响。  \n",
    "所以，softmax的作用就是把连续的输出搞成离散的。"
   ]
  },
  {
   "cell_type": "markdown",
   "id": "a28d9a39",
   "metadata": {},
   "source": [
    "## 3.5 图像分类数据集"
   ]
  },
  {
   "cell_type": "markdown",
   "id": "e6e45715",
   "metadata": {},
   "source": [
    "1. torchvision.datasets: 一些加载数据的函数及常用的数据集接口；\n",
    "2. torchvision.models: 包含常用的模型结构（含预训练模型），例如AlexNet、VGG、ResNet等；\n",
    "3. torchvision.transforms: 常用的图片变换，例如裁剪、旋转等；\n",
    "4. torchvision.utils: 其他的一些有用的方法。"
   ]
  },
  {
   "cell_type": "code",
   "execution_count": null,
   "id": "ef8ff3f0",
   "metadata": {},
   "outputs": [],
   "source": [
    "import torch\n",
    "import torchvision\n",
    "import torchvision.transforms as transforms\n",
    "import matplotlib.pyplot as plt\n",
    "import time\n",
    "import sys\n",
    "import os\n",
    "\n",
    "sys.path.append(\"..\")  # 为了导入上层目录的d2lzh_pytorch\n",
    "\n",
    "import d2lzh_pytorch as d2l"
   ]
  },
  {
   "cell_type": "code",
   "execution_count": null,
   "id": "4bd0e0b7",
   "metadata": {},
   "outputs": [],
   "source": [
    "directory = os.path.abspath(os.path.join(os.getcwd(), \"../\", \"Datasets\"))\n",
    "if not os.path.exists(directory):\n",
    "    os.makedirs(directory)\n",
    "\n",
    "directory = os.path.abspath(os.path.join(os.getcwd(), \"../Datasets/\", \"FashionMNIST\"))\n",
    "if not os.path.exists(directory):\n",
    "    os.makedirs(directory)\n",
    "\n",
    "mnist_train = torchvision.datasets.FashionMNIST(root=directory, train=True, download=True,\n",
    "                                                transform=transforms.ToTensor())\n",
    "mnist_test = torchvision.datasets.FashionMNIST(root=directory, train=False, download=True,\n",
    "                                               transform=transforms.ToTensor())\n",
    "\n",
    "print(type(mnist_train))\n",
    "print(len(mnist_train), len(mnist_test))\n",
    "\n",
    "print('==================================')\n",
    "\n",
    "# 可以通过下标来访问任意一个样本\n",
    "feature, label = mnist_train[0]\n",
    "print(feature.shape, label)  # Channel x Height x Width"
   ]
  }
 ],
 "metadata": {
  "kernelspec": {
   "display_name": "Python 3 (ipykernel)",
   "language": "python",
   "name": "python3"
  },
  "language_info": {
   "codemirror_mode": {
    "name": "ipython",
    "version": 3
   },
   "file_extension": ".py",
   "mimetype": "text/x-python",
   "name": "python",
   "nbconvert_exporter": "python",
   "pygments_lexer": "ipython3",
   "version": "3.7.11"
  }
 },
 "nbformat": 4,
 "nbformat_minor": 5
}
